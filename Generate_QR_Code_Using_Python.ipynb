{
  "nbformat": 4,
  "nbformat_minor": 0,
  "metadata": {
    "colab": {
      "name": "Generate QR Code Using Python.ipynb",
      "provenance": [],
      "authorship_tag": "ABX9TyMbTiJ5drR1r/Ys9Q+SrgD3",
      "include_colab_link": true
    },
    "kernelspec": {
      "name": "python3",
      "display_name": "Python 3"
    },
    "language_info": {
      "name": "python"
    }
  },
  "cells": [
    {
      "cell_type": "markdown",
      "metadata": {
        "id": "view-in-github",
        "colab_type": "text"
      },
      "source": [
        "<a href=\"https://colab.research.google.com/github/sharanrajravi/Generate-QR-Code-Using-Python.ipynb/blob/main/Generate_QR_Code_Using_Python.ipynb\" target=\"_parent\"><img src=\"https://colab.research.google.com/assets/colab-badge.svg\" alt=\"Open In Colab\"/></a>"
      ]
    },
    {
      "cell_type": "code",
      "execution_count": null,
      "metadata": {
        "id": "DocbhbZqQNOa"
      },
      "outputs": [],
      "source": [
        "# Generate a QR code using python."
      ]
    },
    {
      "cell_type": "code",
      "source": [
        "pip install qrcode"
      ],
      "metadata": {
        "colab": {
          "base_uri": "https://localhost:8080/"
        },
        "id": "OCeUa7s_QdKW",
        "outputId": "74d5205c-701d-44a7-de75-dcddea2155ce"
      },
      "execution_count": 1,
      "outputs": [
        {
          "output_type": "stream",
          "name": "stdout",
          "text": [
            "Looking in indexes: https://pypi.org/simple, https://us-python.pkg.dev/colab-wheels/public/simple/\n",
            "Collecting qrcode\n",
            "  Downloading qrcode-7.3.1.tar.gz (43 kB)\n",
            "\u001b[K     |████████████████████████████████| 43 kB 349 kB/s \n",
            "\u001b[?25hBuilding wheels for collected packages: qrcode\n",
            "  Building wheel for qrcode (setup.py) ... \u001b[?25l\u001b[?25hdone\n",
            "  Created wheel for qrcode: filename=qrcode-7.3.1-py3-none-any.whl size=40402 sha256=90c1253449e32bf401cf5e8e9dfd52eedd0202ae1ffab5c85be9917d3b7f9a3c\n",
            "  Stored in directory: /root/.cache/pip/wheels/93/d7/39/a4111be2cfb8e679938aa671a37888b6afb1f9e7d748e94492\n",
            "Successfully built qrcode\n",
            "Installing collected packages: qrcode\n",
            "Successfully installed qrcode-7.3.1\n"
          ]
        }
      ]
    },
    {
      "cell_type": "code",
      "source": [
        "# Import library \n",
        "import qrcode"
      ],
      "metadata": {
        "id": "A_uBDDNEQmFW"
      },
      "execution_count": 2,
      "outputs": []
    },
    {
      "cell_type": "code",
      "source": [
        "# Generate the QR code\n",
        "img = qrcode.make('https://github.com/sharanrajravi')"
      ],
      "metadata": {
        "id": "dJ7CijlFQwVW"
      },
      "execution_count": 4,
      "outputs": []
    },
    {
      "cell_type": "code",
      "source": [
        "# Save the image as an image file like (.jpg)\n",
        "img.save('GithubQRCode.jpg')"
      ],
      "metadata": {
        "id": "GvQYpiKrRKT0"
      },
      "execution_count": 7,
      "outputs": []
    },
    {
      "cell_type": "code",
      "source": [
        "# Generate the QR code\n",
        "img = qrcode.make('https://www.linkedin.com/in/sharan-raj-ravi/')"
      ],
      "metadata": {
        "id": "BJTokqwoRsa0"
      },
      "execution_count": 8,
      "outputs": []
    },
    {
      "cell_type": "code",
      "source": [
        "# Save the image as an image file like (.jpg)\n",
        "img.save('LinkedinQCode.jpg')"
      ],
      "metadata": {
        "id": "OrBEIOb-Rzjc"
      },
      "execution_count": 9,
      "outputs": []
    }
  ]
}